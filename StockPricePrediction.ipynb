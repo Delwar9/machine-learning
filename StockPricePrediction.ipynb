{
  "nbformat": 4,
  "nbformat_minor": 0,
  "metadata": {
    "colab": {
      "name": "StockPricePrediction.ipynb",
      "provenance": [],
      "collapsed_sections": []
    },
    "kernelspec": {
      "name": "python3",
      "display_name": "Python 3"
    }
  },
  "cells": [
    {
      "cell_type": "code",
      "metadata": {
        "id": "iXdpY0txnQtI",
        "colab_type": "code",
        "colab": {}
      },
      "source": [
        "#Install Dependencies\n",
        "import quandl\n",
        "import numpy as np\n",
        "from sklearn.linear_model import LinearRegression\n",
        "from sklearn.svm import SVR\n",
        "from sklearn.model_selection import train_test_split"
      ],
      "execution_count": 0,
      "outputs": []
    },
    {
      "cell_type": "code",
      "metadata": {
        "id": "YSgNr8rEogbG",
        "colab_type": "code",
        "outputId": "4e2fa721-e5e3-43d5-fb91-941b76521557",
        "colab": {
          "base_uri": "https://localhost:8080/",
          "height": 170
        }
      },
      "source": [
        "#Get the stock Data\n",
        "df = quandl.get(\"WIKI/AMZN\")\n",
        "print(df.head())"
      ],
      "execution_count": 83,
      "outputs": [
        {
          "output_type": "stream",
          "text": [
            "             Open   High    Low  ...  Adj. Low  Adj. Close  Adj. Volume\n",
            "Date                             ...                                   \n",
            "1997-05-16  22.38  23.75  20.50  ...  1.708333    1.729167   14700000.0\n",
            "1997-05-19  20.50  21.25  19.50  ...  1.625000    1.708333    6106800.0\n",
            "1997-05-20  20.75  21.00  19.63  ...  1.635833    1.635833    5467200.0\n",
            "1997-05-21  19.25  19.75  16.50  ...  1.375000    1.427500   18853200.0\n",
            "1997-05-22  17.25  17.38  15.75  ...  1.312500    1.395833   11776800.0\n",
            "\n",
            "[5 rows x 12 columns]\n"
          ],
          "name": "stdout"
        }
      ]
    },
    {
      "cell_type": "code",
      "metadata": {
        "id": "Lm7Qe1appBlD",
        "colab_type": "code",
        "colab": {
          "base_uri": "https://localhost:8080/",
          "height": 136
        },
        "outputId": "649f0535-0d8a-44fd-8a94-9ae80ba923f4"
      },
      "source": [
        "#Get the Adjusted Close Price\n",
        "df = df[['Adj. Close']]\n",
        "#Take a look at the new data\n",
        "print(df.head())"
      ],
      "execution_count": 84,
      "outputs": [
        {
          "output_type": "stream",
          "text": [
            "            Adj. Close\n",
            "Date                  \n",
            "1997-05-16    1.729167\n",
            "1997-05-19    1.708333\n",
            "1997-05-20    1.635833\n",
            "1997-05-21    1.427500\n",
            "1997-05-22    1.395833\n"
          ],
          "name": "stdout"
        }
      ]
    },
    {
      "cell_type": "code",
      "metadata": {
        "id": "bfqojR9fp4wj",
        "colab_type": "code",
        "colab": {
          "base_uri": "https://localhost:8080/",
          "height": 136
        },
        "outputId": "239b7c7a-f75b-45e6-ea03-682ff40a4b8a"
      },
      "source": [
        "# A variable for predicting 'n' days out into the future\n",
        "forecast_out = 30\n",
        "#Create another column (the target or dependent variable) shifted 'n' units up\n",
        "df['Prediction'] = df[['Adj. Close']].shift(-forecast_out)\n",
        "#print the new data\n",
        "print(df.tail())"
      ],
      "execution_count": 85,
      "outputs": [
        {
          "output_type": "stream",
          "text": [
            "            Adj. Close  Prediction\n",
            "Date                              \n",
            "2018-03-21     1581.86         NaN\n",
            "2018-03-22     1544.10         NaN\n",
            "2018-03-23     1495.56         NaN\n",
            "2018-03-26     1555.86         NaN\n",
            "2018-03-27     1497.05         NaN\n"
          ],
          "name": "stdout"
        }
      ]
    },
    {
      "cell_type": "code",
      "metadata": {
        "id": "f4yT0p66r-kg",
        "colab_type": "code",
        "colab": {
          "base_uri": "https://localhost:8080/",
          "height": 136
        },
        "outputId": "e0a3d000-5027-4f7f-f9b8-36238488f4b9"
      },
      "source": [
        "#Create the independent data set (X)\n",
        "#Convert the dataframe to a numpy array\n",
        "x = np.array(df.drop(['Prediction'],1))\n",
        "# Remove the 'n' rows \n",
        "x = x[:-forecast_out]\n",
        "print(x)"
      ],
      "execution_count": 86,
      "outputs": [
        {
          "output_type": "stream",
          "text": [
            "[[   1.72916667]\n",
            " [   1.70833333]\n",
            " [   1.63583333]\n",
            " ...\n",
            " [1350.47      ]\n",
            " [1338.99      ]\n",
            " [1386.23      ]]\n"
          ],
          "name": "stdout"
        }
      ]
    },
    {
      "cell_type": "code",
      "metadata": {
        "id": "ntHAQFH0t24Q",
        "colab_type": "code",
        "colab": {
          "base_uri": "https://localhost:8080/",
          "height": 51
        },
        "outputId": "15a73479-d6d7-44ea-b579-05c8ae3e7229"
      },
      "source": [
        "#Create the dependent data set (y)\n",
        "#Covert the dataframe to a numpy array(All of the values including the NAN's)\n",
        "y = np.array(df['Prediction'])\n",
        "#Get all the Y values except the last 'n' rows\n",
        "y = y[:-forecast_out]\n",
        "print(y)"
      ],
      "execution_count": 87,
      "outputs": [
        {
          "output_type": "stream",
          "text": [
            "[1.54166667e+00 1.51583333e+00 1.58833333e+00 ... 1.49556000e+03\n",
            " 1.55586000e+03 1.49705000e+03]\n"
          ],
          "name": "stdout"
        }
      ]
    },
    {
      "cell_type": "code",
      "metadata": {
        "id": "_kltVRRMuuGv",
        "colab_type": "code",
        "colab": {}
      },
      "source": [
        "# Split the data into 80% training and 20% testing\n",
        "x_train, x_test, y_train, y_test = train_test_split(x,y,test_size = 0.2)"
      ],
      "execution_count": 0,
      "outputs": []
    },
    {
      "cell_type": "code",
      "metadata": {
        "id": "7wNbBulHvbdm",
        "colab_type": "code",
        "colab": {
          "base_uri": "https://localhost:8080/",
          "height": 51
        },
        "outputId": "d1323fa3-35a8-474a-f933-c4fb448a083e"
      },
      "source": [
        "#Create and train the Support Vector Machine(Regressor)\n",
        "svr_rbf = SVR(kernel='rbf',C=1e3,gamma=0.1)\n",
        "svr_rbf.fit(x_train,y_train)"
      ],
      "execution_count": 89,
      "outputs": [
        {
          "output_type": "execute_result",
          "data": {
            "text/plain": [
              "SVR(C=1000.0, cache_size=200, coef0=0.0, degree=3, epsilon=0.1, gamma=0.1,\n",
              "    kernel='rbf', max_iter=-1, shrinking=True, tol=0.001, verbose=False)"
            ]
          },
          "metadata": {
            "tags": []
          },
          "execution_count": 89
        }
      ]
    },
    {
      "cell_type": "code",
      "metadata": {
        "id": "kEDjb0wZwHDl",
        "colab_type": "code",
        "colab": {
          "base_uri": "https://localhost:8080/",
          "height": 34
        },
        "outputId": "306baa3c-1e99-44e8-ad5e-4ae42594c9f1"
      },
      "source": [
        "# Testing Model: Score returns the coefficient of determination R^2 of the prediction\n",
        "# The best possible score is 1.0\n",
        "svm_confidence = svr_rbf.score(x_test,y_test)\n",
        "print('svm confidence: ',svm_confidence)"
      ],
      "execution_count": 90,
      "outputs": [
        {
          "output_type": "stream",
          "text": [
            "svm confidence:  0.9294459050327588\n"
          ],
          "name": "stdout"
        }
      ]
    },
    {
      "cell_type": "code",
      "metadata": {
        "id": "_C2EsoWews6P",
        "colab_type": "code",
        "colab": {
          "base_uri": "https://localhost:8080/",
          "height": 34
        },
        "outputId": "130fc1e0-2dfb-419f-fb53-0d82982fe97d"
      },
      "source": [
        "#Create and train the Linear Regression Model\n",
        "lr = LinearRegression()\n",
        "#Train the Model\n",
        "lr.fit(x_train,y_train)"
      ],
      "execution_count": 91,
      "outputs": [
        {
          "output_type": "execute_result",
          "data": {
            "text/plain": [
              "LinearRegression(copy_X=True, fit_intercept=True, n_jobs=None, normalize=False)"
            ]
          },
          "metadata": {
            "tags": []
          },
          "execution_count": 91
        }
      ]
    },
    {
      "cell_type": "code",
      "metadata": {
        "id": "dU0smdjfxG8K",
        "colab_type": "code",
        "colab": {
          "base_uri": "https://localhost:8080/",
          "height": 34
        },
        "outputId": "5da1c6c6-e40e-4b70-b13f-2cc46609301d"
      },
      "source": [
        "# Testing Model: Score returns the coefficient of determination R^2 of the prediction\n",
        "# The best possible score is 1.0\n",
        "lr_confidence = lr.score(x_test,y_test)\n",
        "print('lr confidence: ',lr_confidence)"
      ],
      "execution_count": 92,
      "outputs": [
        {
          "output_type": "stream",
          "text": [
            "lr confidence:  0.9883022166379452\n"
          ],
          "name": "stdout"
        }
      ]
    },
    {
      "cell_type": "code",
      "metadata": {
        "id": "G1Rc2HuJxf8N",
        "colab_type": "code",
        "colab": {
          "base_uri": "https://localhost:8080/",
          "height": 527
        },
        "outputId": "6ed86573-7252-48d0-9f9a-23158cdd451a"
      },
      "source": [
        "# Set x_forecasr equal to the last 30 rows of the original data set from Adj. Close column\n",
        "x_forecast = np.array(df.drop(['Prediction'],1))[-forecast_out:]\n",
        "print(x_forecast)"
      ],
      "execution_count": 93,
      "outputs": [
        {
          "output_type": "stream",
          "text": [
            "[[1414.51]\n",
            " [1451.05]\n",
            " [1461.76]\n",
            " [1448.69]\n",
            " [1468.35]\n",
            " [1482.92]\n",
            " [1484.76]\n",
            " [1500.  ]\n",
            " [1521.95]\n",
            " [1511.98]\n",
            " [1512.45]\n",
            " [1493.45]\n",
            " [1500.25]\n",
            " [1523.61]\n",
            " [1537.64]\n",
            " [1545.  ]\n",
            " [1551.86]\n",
            " [1578.89]\n",
            " [1598.39]\n",
            " [1588.18]\n",
            " [1591.  ]\n",
            " [1582.32]\n",
            " [1571.68]\n",
            " [1544.93]\n",
            " [1586.51]\n",
            " [1581.86]\n",
            " [1544.1 ]\n",
            " [1495.56]\n",
            " [1555.86]\n",
            " [1497.05]]\n"
          ],
          "name": "stdout"
        }
      ]
    },
    {
      "cell_type": "code",
      "metadata": {
        "id": "QM7dDqDKyQ0k",
        "colab_type": "code",
        "colab": {
          "base_uri": "https://localhost:8080/",
          "height": 221
        },
        "outputId": "b2e8573b-2d14-412f-ef51-48659e3afefc"
      },
      "source": [
        "# Print Linear Regression Model Predictions for the next 'n' days\n",
        "lr_prediction = lr.predict(x_forecast)\n",
        "print(lr_prediction)\n",
        "\n",
        "# Print Support Vector Regressor Model Predictions for the next 'n' days\n",
        "svm_prediction = svr_rbf.predict(x_forecast)\n",
        "print(svm_prediction)"
      ],
      "execution_count": 94,
      "outputs": [
        {
          "output_type": "stream",
          "text": [
            "[1497.42751487 1536.18782248 1547.5486023  1533.68442002 1554.53903545\n",
            " 1569.99436336 1571.94616867 1588.1122083  1611.39597272 1600.82015808\n",
            " 1601.31871705 1581.1642057  1588.37739924 1613.15684056 1628.03935604\n",
            " 1635.84657728 1643.12341664 1671.79586094 1692.48075416 1681.65035622\n",
            " 1684.64171001 1675.43428062 1664.14775426 1635.77232381 1679.87888075\n",
            " 1674.94632929 1634.8918899  1583.40241722 1647.36647166 1584.98295522]\n",
            "[1190.19731648  666.36669324  665.36409271  693.05107983  665.36409271\n",
            "  665.36409271  665.36409271  665.36409271  665.36409271  665.36409271\n",
            "  665.36409271  665.36409271  665.36409271  665.36409271  665.36409271\n",
            "  665.36409271  665.36409271  665.36409271  665.36409271  665.36409271\n",
            "  665.36409271  665.36409271  665.36409271  665.36409271  665.36409271\n",
            "  665.36409271  665.36409271  665.36409271  665.36409271  665.36409271]\n"
          ],
          "name": "stdout"
        }
      ]
    }
  ]
}